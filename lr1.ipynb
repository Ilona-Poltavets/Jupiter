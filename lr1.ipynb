{
 "cells": [
  {
   "cell_type": "code",
   "execution_count": 2,
   "id": "860b5b22",
   "metadata": {},
   "outputs": [
    {
     "name": "stdout",
     "output_type": "stream",
     "text": [
      "Enter number a: 5\n",
      "Enter number b: 5\n",
      "a + b = 10\n",
      "a - b = 0\n",
      "a * b = 25\n",
      "The quotient from dividing a by b: 1.0\n",
      "Remainder of dividing a by b: 0\n",
      "Decimal logarithm of a: 0.6989700043360189\n",
      "The result of raising the number a to the b power: 3125\n"
     ]
    }
   ],
   "source": [
    "import math\n",
    "a = int(input(\"Enter number a: \"))\n",
    "b = int(input(\"Enter number b: \"))\n",
    "\n",
    "print(\"a + b =\", a + b)\n",
    "print(\"a - b =\", a - b)\n",
    "print(\"a * b =\", a * b)\n",
    "\n",
    "if b != 0:\n",
    "    print(\"The quotient from dividing a by b:\", a / b)\n",
    "    print(\"Remainder of dividing a by b:\", a % b)\n",
    "else:\n",
    "    print(\"Division by zero.\")\n",
    "\n",
    "if a > 0:\n",
    "    print(\"Decimal logarithm of a:\", math.log10(a))\n",
    "else:\n",
    "    print(\"The decimal logarithm is not defined for a non-negative number.\")\n",
    "\n",
    "print(\"The result of raising the number a to the b power:\", a ** b)\n"
   ]
  },
  {
   "cell_type": "code",
   "execution_count": null,
   "id": "ca3e3886",
   "metadata": {},
   "outputs": [],
   "source": []
  }
 ],
 "metadata": {
  "kernelspec": {
   "display_name": "Python 3 (ipykernel)",
   "language": "python",
   "name": "python3"
  },
  "language_info": {
   "codemirror_mode": {
    "name": "ipython",
    "version": 3
   },
   "file_extension": ".py",
   "mimetype": "text/x-python",
   "name": "python",
   "nbconvert_exporter": "python",
   "pygments_lexer": "ipython3",
   "version": "3.11.5"
  }
 },
 "nbformat": 4,
 "nbformat_minor": 5
}
