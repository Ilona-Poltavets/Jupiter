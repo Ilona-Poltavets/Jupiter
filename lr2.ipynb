{
 "cells": [
  {
   "cell_type": "code",
   "execution_count": 8,
   "id": "3bb2243f-f3c8-4fa0-849d-2c8b2d77be47",
   "metadata": {
    "tags": []
   },
   "outputs": [
    {
     "name": "stdout",
     "output_type": "stream",
     "text": [
      "Результат поелементного додавання з використанням NumPy:\n",
      "[78.13330767 38.01291788  2.4735654  35.7213049  42.81183876]\n",
      "\n",
      "Результат множення матриць з використанням NumPy:\n",
      "[[71.17890769 71.17890769 71.17890769 71.17890769 71.17890769]\n",
      " [71.17890769 71.17890769 71.17890769 71.17890769 71.17890769]\n",
      " [71.17890769 71.17890769 71.17890769 71.17890769 71.17890769]]\n",
      "\n",
      "Результат поелементного додавання без використання NumPy:\n",
      "[78 38  2 35 42]\n",
      "\n",
      "Результат множення матриць без використання NumPy:\n",
      "[[71.17890769 71.17890769 71.17890769 71.17890769 71.17890769]\n",
      " [71.17890769 71.17890769 71.17890769 71.17890769 71.17890769]\n",
      " [71.17890769 71.17890769 71.17890769 71.17890769 71.17890769]]\n"
     ]
    }
   ],
   "source": [
    "import numpy as np\n",
    "\n",
    "def elementwise_addition(a1, a2):\n",
    "    return a1 + a2\n",
    "\n",
    "def matrix_multiplication(m1, m2):\n",
    "    return np.dot(m1, m2)\n",
    "\n",
    "# Операція 1: Поелементне додавання двох одновимірних масивів\n",
    "def direct_addition(a1, a2):\n",
    "    result = np.zeros_like(a1)\n",
    "    a1.astype(float)\n",
    "    for i in range(len(a1)):\n",
    "        result[i] = a1[i] + a2[i]\n",
    "    return result\n",
    "\n",
    "# Операція 2: Перемноження матриць\n",
    "def direct_matrix_multiplication(m1, m2):\n",
    "    rows_m1, cols_m1 = m1.shape\n",
    "    rows_m2, cols_m2 = m2.shape\n",
    "    result = np.zeros((rows_m1, cols_m2))\n",
    "    for i in range(rows_m1):\n",
    "        for j in range(cols_m2):\n",
    "            for k in range(cols_m1):\n",
    "                result[i][j] += m1[i][k] * m2[k][j]\n",
    "    return result\n",
    "\n",
    "# Задання розмірів масивів та матриць\n",
    "N = 5\n",
    "rows_m1, cols_m1 = 3, 5  # Оновлено кількість стовпців у m1\n",
    "rows_m2, cols_m2 = 5, 2  # Змінено кількість рядків та стовпців у m2\n",
    "\n",
    "# Заповнення масивів a1 та a2 значеннями\n",
    "a1 = np.random.randint(0, 101, N)\n",
    "a2 = np.random.random(N)\n",
    "\n",
    "# Заповнення матриць m1 та m2 значеннями\n",
    "m1 = np.array([a1] * rows_m1)\n",
    "m2 = np.array([a2] * rows_m2).T  # Операція транспонування для відповідності розмірності\n",
    "\n",
    "# Виклик функцій для виконання операцій\n",
    "result_elementwise_addition = elementwise_addition(a1, a2)\n",
    "result_matrix_multiplication = matrix_multiplication(m1, m2)\n",
    "\n",
    "result_direct_addition = direct_addition(a1, a2)\n",
    "result_direct_matrix_multiplication = direct_matrix_multiplication(m1, m2)\n",
    "\n",
    "print(\"Результат поелементного додавання з використанням NumPy:\")\n",
    "print(result_elementwise_addition)\n",
    "print(\"\\nРезультат множення матриць з використанням NumPy:\")\n",
    "print(result_matrix_multiplication)\n",
    "\n",
    "print(\"\\nРезультат поелементного додавання без використання NumPy:\")\n",
    "print(result_direct_addition)\n",
    "print(\"\\nРезультат множення матриць без використання NumPy:\")\n",
    "print(result_direct_matrix_multiplication)\n"
   ]
  },
  {
   "cell_type": "code",
   "execution_count": null,
   "id": "a7e4d1be-95f9-49e7-be6f-d3777865ab1d",
   "metadata": {},
   "outputs": [],
   "source": []
  }
 ],
 "metadata": {
  "kernelspec": {
   "display_name": "Python 3 (ipykernel)",
   "language": "python",
   "name": "python3"
  },
  "language_info": {
   "codemirror_mode": {
    "name": "ipython",
    "version": 3
   },
   "file_extension": ".py",
   "mimetype": "text/x-python",
   "name": "python",
   "nbconvert_exporter": "python",
   "pygments_lexer": "ipython3",
   "version": "3.11.5"
  }
 },
 "nbformat": 4,
 "nbformat_minor": 5
}
