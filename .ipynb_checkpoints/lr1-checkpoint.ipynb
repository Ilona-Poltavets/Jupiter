{
 "cells": [
  {
   "cell_type": "code",
   "execution_count": null,
   "id": "dab7b195",
   "metadata": {},
   "outputs": [],
   "source": [
    "import math\n",
    "# Запитуємо у користувача два цілі числа\n",
    "a = int(input(\"Введіть число a: \"))\n",
    "b = int(input(\"Введіть число b: \"))\n",
    "\n",
    "# Обчислення та виведення результатів\n",
    "print(\"Сума a і b:\", a + b)\n",
    "print(\"Різниця між a і b:\", a - b)\n",
    "print(\"Добуток a і b:\", a * b)\n",
    "\n",
    "# Перевірка, щоб уникнути ділення на нуль\n",
    "if b != 0:\n",
    "    print(\"Частка від ділення a на b:\", a / b)\n",
    "    print(\"Залишок від ділення a на b:\", a % b)\n",
    "else:\n",
    "    print(\"Ділення на нуль не допускається.\")\n",
    "\n",
    "# Перевірка, чи a - додатне число для обчислення логарифму\n",
    "if a > 0:\n",
    "    print(\"Десятковий логарифм числа a:\", math.log10(a))\n",
    "else:\n",
    "    print(\"Десятковий логарифм не визначений для невід'ємного числа.\")\n",
    "\n",
    "print(\"Результат зведення числа a у ступінь b:\", a ** b)\n"
   ]
  }
 ],
 "metadata": {
  "kernelspec": {
   "display_name": "Python 3 (ipykernel)",
   "language": "python",
   "name": "python3"
  },
  "language_info": {
   "codemirror_mode": {
    "name": "ipython",
    "version": 3
   },
   "file_extension": ".py",
   "mimetype": "text/x-python",
   "name": "python",
   "nbconvert_exporter": "python",
   "pygments_lexer": "ipython3",
   "version": "3.11.5"
  }
 },
 "nbformat": 4,
 "nbformat_minor": 5
}
