{
 "cells": [
  {
   "cell_type": "code",
   "execution_count": 18,
   "id": "6034925b",
   "metadata": {},
   "outputs": [
    {
     "name": "stdout",
     "output_type": "stream",
     "text": [
      "Shape of X_train after one-hot encoding: (32561, 105)\n",
      "Shape of X_test after one-hot encoding: (16282, 105)\n"
     ]
    },
    {
     "ename": "ValueError",
     "evalue": "Classification metrics can't handle a mix of unknown and binary targets",
     "output_type": "error",
     "traceback": [
      "\u001b[1;31m---------------------------------------------------------------------------\u001b[0m",
      "\u001b[1;31mValueError\u001b[0m                                Traceback (most recent call last)",
      "Cell \u001b[1;32mIn[18], line 50\u001b[0m\n\u001b[0;32m     47\u001b[0m predictions_1 \u001b[38;5;241m=\u001b[39m tree_model_1\u001b[38;5;241m.\u001b[39mpredict(X_test)\n\u001b[0;32m     49\u001b[0m \u001b[38;5;66;03m# Оцінка точності\u001b[39;00m\n\u001b[1;32m---> 50\u001b[0m accuracy_1 \u001b[38;5;241m=\u001b[39m accuracy_score(y_test, predictions_1)\n\u001b[0;32m     51\u001b[0m \u001b[38;5;28mprint\u001b[39m(\u001b[38;5;124m\"\u001b[39m\u001b[38;5;124mAccuracy of Decision Tree (max_depth=3):\u001b[39m\u001b[38;5;124m\"\u001b[39m, accuracy_1)\n\u001b[0;32m     53\u001b[0m \u001b[38;5;66;03m# Завдання 2: Дерево рішень з налаштуванням параметрів\u001b[39;00m\n\u001b[0;32m     54\u001b[0m \u001b[38;5;66;03m# Пошук оптимальної максимальної глибини\u001b[39;00m\n",
      "File \u001b[1;32mC:\\ProgramData\\anaconda3\\Lib\\site-packages\\sklearn\\utils\\_param_validation.py:211\u001b[0m, in \u001b[0;36mvalidate_params.<locals>.decorator.<locals>.wrapper\u001b[1;34m(*args, **kwargs)\u001b[0m\n\u001b[0;32m    205\u001b[0m \u001b[38;5;28;01mtry\u001b[39;00m:\n\u001b[0;32m    206\u001b[0m     \u001b[38;5;28;01mwith\u001b[39;00m config_context(\n\u001b[0;32m    207\u001b[0m         skip_parameter_validation\u001b[38;5;241m=\u001b[39m(\n\u001b[0;32m    208\u001b[0m             prefer_skip_nested_validation \u001b[38;5;129;01mor\u001b[39;00m global_skip_validation\n\u001b[0;32m    209\u001b[0m         )\n\u001b[0;32m    210\u001b[0m     ):\n\u001b[1;32m--> 211\u001b[0m         \u001b[38;5;28;01mreturn\u001b[39;00m func(\u001b[38;5;241m*\u001b[39margs, \u001b[38;5;241m*\u001b[39m\u001b[38;5;241m*\u001b[39mkwargs)\n\u001b[0;32m    212\u001b[0m \u001b[38;5;28;01mexcept\u001b[39;00m InvalidParameterError \u001b[38;5;28;01mas\u001b[39;00m e:\n\u001b[0;32m    213\u001b[0m     \u001b[38;5;66;03m# When the function is just a wrapper around an estimator, we allow\u001b[39;00m\n\u001b[0;32m    214\u001b[0m     \u001b[38;5;66;03m# the function to delegate validation to the estimator, but we replace\u001b[39;00m\n\u001b[0;32m    215\u001b[0m     \u001b[38;5;66;03m# the name of the estimator by the name of the function in the error\u001b[39;00m\n\u001b[0;32m    216\u001b[0m     \u001b[38;5;66;03m# message to avoid confusion.\u001b[39;00m\n\u001b[0;32m    217\u001b[0m     msg \u001b[38;5;241m=\u001b[39m re\u001b[38;5;241m.\u001b[39msub(\n\u001b[0;32m    218\u001b[0m         \u001b[38;5;124mr\u001b[39m\u001b[38;5;124m\"\u001b[39m\u001b[38;5;124mparameter of \u001b[39m\u001b[38;5;124m\\\u001b[39m\u001b[38;5;124mw+ must be\u001b[39m\u001b[38;5;124m\"\u001b[39m,\n\u001b[0;32m    219\u001b[0m         \u001b[38;5;124mf\u001b[39m\u001b[38;5;124m\"\u001b[39m\u001b[38;5;124mparameter of \u001b[39m\u001b[38;5;132;01m{\u001b[39;00mfunc\u001b[38;5;241m.\u001b[39m\u001b[38;5;18m__qualname__\u001b[39m\u001b[38;5;132;01m}\u001b[39;00m\u001b[38;5;124m must be\u001b[39m\u001b[38;5;124m\"\u001b[39m,\n\u001b[0;32m    220\u001b[0m         \u001b[38;5;28mstr\u001b[39m(e),\n\u001b[0;32m    221\u001b[0m     )\n",
      "File \u001b[1;32mC:\\ProgramData\\anaconda3\\Lib\\site-packages\\sklearn\\metrics\\_classification.py:220\u001b[0m, in \u001b[0;36maccuracy_score\u001b[1;34m(y_true, y_pred, normalize, sample_weight)\u001b[0m\n\u001b[0;32m    154\u001b[0m \u001b[38;5;250m\u001b[39m\u001b[38;5;124;03m\"\"\"Accuracy classification score.\u001b[39;00m\n\u001b[0;32m    155\u001b[0m \n\u001b[0;32m    156\u001b[0m \u001b[38;5;124;03mIn multilabel classification, this function computes subset accuracy:\u001b[39;00m\n\u001b[1;32m   (...)\u001b[0m\n\u001b[0;32m    216\u001b[0m \u001b[38;5;124;03m0.5\u001b[39;00m\n\u001b[0;32m    217\u001b[0m \u001b[38;5;124;03m\"\"\"\u001b[39;00m\n\u001b[0;32m    219\u001b[0m \u001b[38;5;66;03m# Compute accuracy for each possible representation\u001b[39;00m\n\u001b[1;32m--> 220\u001b[0m y_type, y_true, y_pred \u001b[38;5;241m=\u001b[39m _check_targets(y_true, y_pred)\n\u001b[0;32m    221\u001b[0m check_consistent_length(y_true, y_pred, sample_weight)\n\u001b[0;32m    222\u001b[0m \u001b[38;5;28;01mif\u001b[39;00m y_type\u001b[38;5;241m.\u001b[39mstartswith(\u001b[38;5;124m\"\u001b[39m\u001b[38;5;124mmultilabel\u001b[39m\u001b[38;5;124m\"\u001b[39m):\n",
      "File \u001b[1;32mC:\\ProgramData\\anaconda3\\Lib\\site-packages\\sklearn\\metrics\\_classification.py:93\u001b[0m, in \u001b[0;36m_check_targets\u001b[1;34m(y_true, y_pred)\u001b[0m\n\u001b[0;32m     90\u001b[0m     y_type \u001b[38;5;241m=\u001b[39m {\u001b[38;5;124m\"\u001b[39m\u001b[38;5;124mmulticlass\u001b[39m\u001b[38;5;124m\"\u001b[39m}\n\u001b[0;32m     92\u001b[0m \u001b[38;5;28;01mif\u001b[39;00m \u001b[38;5;28mlen\u001b[39m(y_type) \u001b[38;5;241m>\u001b[39m \u001b[38;5;241m1\u001b[39m:\n\u001b[1;32m---> 93\u001b[0m     \u001b[38;5;28;01mraise\u001b[39;00m \u001b[38;5;167;01mValueError\u001b[39;00m(\n\u001b[0;32m     94\u001b[0m         \u001b[38;5;124m\"\u001b[39m\u001b[38;5;124mClassification metrics can\u001b[39m\u001b[38;5;124m'\u001b[39m\u001b[38;5;124mt handle a mix of \u001b[39m\u001b[38;5;132;01m{0}\u001b[39;00m\u001b[38;5;124m and \u001b[39m\u001b[38;5;132;01m{1}\u001b[39;00m\u001b[38;5;124m targets\u001b[39m\u001b[38;5;124m\"\u001b[39m\u001b[38;5;241m.\u001b[39mformat(\n\u001b[0;32m     95\u001b[0m             type_true, type_pred\n\u001b[0;32m     96\u001b[0m         )\n\u001b[0;32m     97\u001b[0m     )\n\u001b[0;32m     99\u001b[0m \u001b[38;5;66;03m# We can't have more than one value on y_type => The set is no more needed\u001b[39;00m\n\u001b[0;32m    100\u001b[0m y_type \u001b[38;5;241m=\u001b[39m y_type\u001b[38;5;241m.\u001b[39mpop()\n",
      "\u001b[1;31mValueError\u001b[0m: Classification metrics can't handle a mix of unknown and binary targets"
     ]
    }
   ],
   "source": [
    "import pandas as pd\n",
    "from sklearn.tree import DecisionTreeClassifier\n",
    "from sklearn.model_selection import GridSearchCV\n",
    "from sklearn.metrics import accuracy_score\n",
    "\n",
    "# Завантаження даних\n",
    "train_data = pd.read_csv(\"adult_train.csv\", sep=\";\")\n",
    "test_data = pd.read_csv(\"adult_test.csv\", sep=\";\")\n",
    "\n",
    "# train_data.head(2)\n",
    "# test_data.head(2)\n",
    "# Підготовка даних\n",
    "# Виключення непотрібних ознак (якщо такі є)\n",
    "# Якщо потрібно, можна провести кодування категоріальних ознак за допомогою one-hot encoding або label encoding\n",
    "\n",
    "# Розділення на ознаки та цільову змінну\n",
    "X_train = train_data.drop('Target', axis=1)\n",
    "y_train = train_data['Target']\n",
    "X_test = test_data.drop('Target', axis=1)\n",
    "y_test = test_data['Target']\n",
    "\n",
    "# Використання методу one-hot encoding для кодування категоріальних ознак\n",
    "X_train = pd.get_dummies(X_train)\n",
    "X_test = pd.get_dummies(X_test)\n",
    "\n",
    "# Збереження стовпців, які містяться в навчальному наборі\n",
    "train_features = X_train.columns\n",
    "\n",
    "# Додавання відсутніх стовпців до тестового набору та заповнення нулями\n",
    "missing_cols = set(train_features) - set(X_test.columns)\n",
    "for col in missing_cols:\n",
    "    X_test[col] = 0\n",
    "\n",
    "# Впорядковання стовпців у тестовому наборі в тому ж порядку, що й у навчальному\n",
    "X_test = X_test[train_features]\n",
    "\n",
    "# Перевірка розмірності даних після one-hot encoding\n",
    "print(\"Shape of X_train after one-hot encoding:\", X_train.shape)\n",
    "print(\"Shape of X_test after one-hot encoding:\", X_test.shape)\n",
    "\n",
    "# Завдання 1: Дерево рішень без налаштування параметрів\n",
    "# Навчення моделі\n",
    "tree_model_1 = DecisionTreeClassifier(max_depth=3, random_state=17)\n",
    "tree_model_1.fit(X_train, y_train)\n",
    "\n",
    "# Прогноз на тестових даних\n",
    "predictions_1 = tree_model_1.predict(X_test)\n",
    "\n",
    "# Оцінка точності\n",
    "accuracy_1 = accuracy_score(y_test, predictions_1)\n",
    "print(\"Accuracy of Decision Tree (max_depth=3):\", accuracy_1)\n",
    "\n",
    "# Завдання 2: Дерево рішень з налаштуванням параметрів\n",
    "# Пошук оптимальної максимальної глибини\n",
    "param_grid = {'max_depth': range(1, 10)}\n",
    "grid_search = GridSearchCV(DecisionTreeClassifier(random_state=17), param_grid, cv=5)\n",
    "grid_search.fit(X_train, y_train)\n",
    "\n",
    "best_max_depth = grid_search.best_params_['max_depth']\n",
    "print(\"Best max_depth:\", best_max_depth)\n",
    "\n",
    "# Навчення моделі зі знайденою оптимальною глибиною\n",
    "tree_model_2 = DecisionTreeClassifier(max_depth=best_max_depth, random_state=17)\n",
    "tree_model_2.fit(X_train, y_train)\n",
    "\n",
    "# Оцінка точності на тестових даних\n",
    "predictions_2 = tree_model_2.predict(X_test)\n",
    "accuracy_2 = accuracy_score(y_test, predictions_2)\n",
    "print(\"Accuracy of Decision Tree with optimal max_depth:\", accuracy_2)\n"
   ]
  },
  {
   "cell_type": "code",
   "execution_count": null,
   "id": "e4449fdf",
   "metadata": {},
   "outputs": [],
   "source": []
  },
  {
   "cell_type": "code",
   "execution_count": null,
   "id": "03ec397d",
   "metadata": {},
   "outputs": [],
   "source": []
  },
  {
   "cell_type": "code",
   "execution_count": null,
   "id": "f777a14e",
   "metadata": {},
   "outputs": [],
   "source": []
  },
  {
   "cell_type": "code",
   "execution_count": null,
   "id": "e5ae5631",
   "metadata": {},
   "outputs": [],
   "source": []
  },
  {
   "cell_type": "code",
   "execution_count": null,
   "id": "74932234",
   "metadata": {},
   "outputs": [],
   "source": []
  }
 ],
 "metadata": {
  "kernelspec": {
   "display_name": "Python 3 (ipykernel)",
   "language": "python",
   "name": "python3"
  },
  "language_info": {
   "codemirror_mode": {
    "name": "ipython",
    "version": 3
   },
   "file_extension": ".py",
   "mimetype": "text/x-python",
   "name": "python",
   "nbconvert_exporter": "python",
   "pygments_lexer": "ipython3",
   "version": "3.11.5"
  }
 },
 "nbformat": 4,
 "nbformat_minor": 5
}
